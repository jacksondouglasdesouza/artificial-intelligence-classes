{
  "nbformat": 4,
  "nbformat_minor": 0,
  "metadata": {
    "colab": {
      "provenance": [],
      "authorship_tag": "ABX9TyPs+BUzB2yaIsFZN1xuaWgt",
      "include_colab_link": true
    },
    "kernelspec": {
      "name": "python3",
      "display_name": "Python 3"
    },
    "language_info": {
      "name": "python"
    }
  },
  "cells": [
    {
      "cell_type": "markdown",
      "metadata": {
        "id": "view-in-github",
        "colab_type": "text"
      },
      "source": [
        "<a href=\"https://colab.research.google.com/github/jacksondouglasdesouza/artificial-intelligence-classes/blob/master/1_Fundamentos.ipynb\" target=\"_parent\"><img src=\"https://colab.research.google.com/assets/colab-badge.svg\" alt=\"Open In Colab\"/></a>"
      ]
    },
    {
      "cell_type": "code",
      "execution_count": 3,
      "metadata": {
        "colab": {
          "base_uri": "https://localhost:8080/"
        },
        "id": "fqDsNRfQPFWf",
        "outputId": "d7957602-4c25-4812-eaf2-923bc532720e"
      },
      "outputs": [
        {
          "output_type": "stream",
          "name": "stdout",
          "text": [
            "Essa é minha primeira aula!\n"
          ]
        }
      ],
      "source": [
        "#Este é uma comentário Comum usado em Python\n",
        "print(\"Essa é minha primeira aula!\")\n",
        "#Este é outro comentário Comum usado em Python\n",
        "#Este é outro comentário Comum usado em Python\n"
      ]
    },
    {
      "cell_type": "code",
      "source": [
        "'''\n",
        "Este é uma Doc string que é usada\n",
        "para fazer documentação de seu código mais\n",
        "também é usado para fazer comentários\n",
        "de multiplas linhas no seu código!\n",
        "'''\n",
        "print(\"Aqui fiz comentários no meu código com Doc string\")\n"
      ],
      "metadata": {
        "colab": {
          "base_uri": "https://localhost:8080/"
        },
        "id": "bMstVReKPb9d",
        "outputId": "4b58ab9b-f7ae-481c-d2ae-aee3a07eef96"
      },
      "execution_count": 4,
      "outputs": [
        {
          "output_type": "stream",
          "name": "stdout",
          "text": [
            "Aqui fiz comentários no meu código com Doc string\n"
          ]
        }
      ]
    },
    {
      "cell_type": "code",
      "source": [
        "print(\"Olá Comunidade Python...\")\n",
        "print(10)\n",
        "print(20.50)"
      ],
      "metadata": {
        "colab": {
          "base_uri": "https://localhost:8080/"
        },
        "id": "xs67hkj6PyzB",
        "outputId": "14ba6e0b-a9e0-4b9b-d088-b0e0209250f2"
      },
      "execution_count": 5,
      "outputs": [
        {
          "output_type": "stream",
          "name": "stdout",
          "text": [
            "Olá Comunidade Python...\n",
            "10\n",
            "20.5\n"
          ]
        }
      ]
    },
    {
      "cell_type": "code",
      "source": [
        "print('Maçã', 20, 30, 4.45)\n",
        "#Este é outro comentário Comum usado em Python\n",
        "print('Maçã', 20, 30, 4.45, sep=\"-\")\n",
        "print('Maçã', 20, 30, 4.45, sep=\"--\")\n",
        "print('Maçã', 20, 30, 4.45, sep=\" | \")\n",
        "print('Maçã', 20, 30, 4.45 , sep=\" | \", end=\" Fim da Lista\")\n",
        "print('\\nEste texto é muito grande e eu tou afim de quebrar a linha'\n",
        "'\\nestou aplicando a quebra de linha agora! <<<<-------')"
      ],
      "metadata": {
        "colab": {
          "base_uri": "https://localhost:8080/"
        },
        "id": "YbRRgozxQdFs",
        "outputId": "3394d711-8150-4608-87c5-139f4624a5ae"
      },
      "execution_count": 18,
      "outputs": [
        {
          "output_type": "stream",
          "name": "stdout",
          "text": [
            "Maçã 20 30 4.45\n",
            "Maçã-20-30-4.45\n",
            "Maçã--20--30--4.45\n",
            "Maçã | 20 | 30 | 4.45\n",
            "Maçã | 20 | 30 | 4.45 Fim da Lista\n",
            "Este texto é muito grande e eu tou afim de quebrar a linha\n",
            "estou aplicando a quebra de linha agora! <<<<-------\n"
          ]
        }
      ]
    },
    {
      "cell_type": "code",
      "source": [
        "print(\"A pontuação de [ %s ] foi do usuário [ %s ] \" % (\"Variável 01\", \"Variável 02\"))\n",
        "#outra forma\n",
        "print(\"A pontuação de [ {} ] foi do usuário [ {} ] \".format(\"variável 01\", \"variável 02\"))\n",
        "#outra forma\n",
        "var01 = '[ Variável 001 ]'\n",
        "var02 = '[ Variável 002 ]'\n",
        "print(\"A pontuação de\" + var01+  \"foi do usuário \" + var02)\n"
      ],
      "metadata": {
        "colab": {
          "base_uri": "https://localhost:8080/"
        },
        "id": "2-iMYTeTTCsz",
        "outputId": "d0546bd3-8147-49c9-9762-ccde462eb718"
      },
      "execution_count": 26,
      "outputs": [
        {
          "output_type": "stream",
          "name": "stdout",
          "text": [
            "A pontuação de [ Variável 01 ] foi do usuário [ Variável 02 ] \n",
            "A pontuação de [ variável 01 ] foi do usuário [ variável 02 ] \n",
            "A pontuação de[ Variável 001 ]foi do usuário [ Variável 002 ]\n"
          ]
        }
      ]
    },
    {
      "cell_type": "code",
      "source": [
        "#FORMA MAIS MODERNA DE USAR AS VARIÁVEIS NO TEXTO\n",
        "nome = 'Jackson Douglas'\n",
        "sobrenome = 'de Souza'\n",
        "\n",
        "print(f'O nome completo do aluno é: {nome} {sobrenome}.')"
      ],
      "metadata": {
        "colab": {
          "base_uri": "https://localhost:8080/"
        },
        "id": "NoPU-tZvU1QG",
        "outputId": "6d24dbc1-5629-45cd-d390-4bef79704ec7"
      },
      "execution_count": 27,
      "outputs": [
        {
          "output_type": "stream",
          "name": "stdout",
          "text": [
            "O nome completo do aluno é: Jackson Douglas de Souza.\n"
          ]
        }
      ]
    },
    {
      "cell_type": "markdown",
      "source": [
        "## **Atividade 001**\n",
        "1º - Realize o print do seu nome completo, idade e altura. Use prints separados para cada operação.\n"
      ],
      "metadata": {
        "id": "aQUuBLY0WFP3"
      }
    },
    {
      "cell_type": "markdown",
      "source": [],
      "metadata": {
        "id": "2vFVrL6OWkcz"
      }
    },
    {
      "cell_type": "code",
      "source": [
        "print(\"Jackson Douglas de Souza\")\n",
        "print(\"Idade = 37 Anos\")\n",
        "print(\"Altura = 1.90 m\")"
      ],
      "metadata": {
        "colab": {
          "base_uri": "https://localhost:8080/"
        },
        "id": "5vrmdkZSWHT0",
        "outputId": "6d7c94c1-7942-4b55-c8a2-67904119e3a3"
      },
      "execution_count": 28,
      "outputs": [
        {
          "output_type": "stream",
          "name": "stdout",
          "text": [
            "Jackson Douglas de Souza\n",
            "Idade = 37 Anos\n",
            "Altura = 1.90 m\n"
          ]
        }
      ]
    },
    {
      "cell_type": "markdown",
      "source": [
        "2º - Realize o print do seu nome completo, idade e altura. Use print único para esta operação."
      ],
      "metadata": {
        "id": "u2SrjcQzWmbF"
      }
    },
    {
      "cell_type": "code",
      "source": [
        "nome = 'Jackson Douglas de Souza'\n",
        "idade = 37\n",
        "altura = 1.90\n",
        "\n",
        "print(f\"Nome completo: {nome}\\nIdade: {idade} anos\\nAltura: {altura:.2f} m\")\n"
      ],
      "metadata": {
        "colab": {
          "base_uri": "https://localhost:8080/"
        },
        "id": "2Ci5ruYgWqEK",
        "outputId": "802dd601-c397-45bd-ef09-23aefe214a59"
      },
      "execution_count": 33,
      "outputs": [
        {
          "output_type": "stream",
          "name": "stdout",
          "text": [
            "Nome completo: Jackson Douglas de Souza\n",
            "Idade: 37 anos\n",
            "Altura: 1.90 m\n"
          ]
        }
      ]
    },
    {
      "cell_type": "markdown",
      "source": [
        "3º - Ultilize o print de 3 números de sua escolha em um mesmo print, mais separados pelo caractere '-'."
      ],
      "metadata": {
        "id": "Ki5hzaAXXSLu"
      }
    },
    {
      "cell_type": "code",
      "source": [
        "print(3500, 8500, 15700, sep=\" - \")"
      ],
      "metadata": {
        "colab": {
          "base_uri": "https://localhost:8080/"
        },
        "id": "FmZahLUEXT-B",
        "outputId": "5c8ea200-3601-4dbf-e9c1-718e2ad40868"
      },
      "execution_count": 35,
      "outputs": [
        {
          "output_type": "stream",
          "name": "stdout",
          "text": [
            "3500 - 8500 - 15700\n"
          ]
        }
      ]
    }
  ]
}